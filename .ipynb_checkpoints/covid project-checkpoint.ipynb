{
 "cells": [
  {
   "cell_type": "code",
   "execution_count": 172,
   "id": "necessary-cliff",
   "metadata": {},
   "outputs": [],
   "source": [
    "import numpy as np\n",
    "import pandas as pd\n",
    "import matplotlib.pyplot as plt\n",
    "import seaborn as sns\n",
    "import math"
   ]
  },
  {
   "cell_type": "code",
   "execution_count": null,
   "id": "capital-structure",
   "metadata": {},
   "outputs": [],
   "source": [
    "data = pd.read_excel('ICUfinal.xlsx', engine=\"openpyxl\", index_col=0)"
   ]
  },
  {
   "cell_type": "code",
   "execution_count": null,
   "id": "handy-proof",
   "metadata": {},
   "outputs": [],
   "source": [
    "data[data[\"PATIENT_VISIT_IDENTIFIER\"] == 23][\"ICU\"]"
   ]
  },
  {
   "cell_type": "code",
   "execution_count": null,
   "id": "tired-textbook",
   "metadata": {},
   "outputs": [],
   "source": [
    "data"
   ]
  },
  {
   "cell_type": "code",
   "execution_count": null,
   "id": "partial-formation",
   "metadata": {},
   "outputs": [],
   "source": [
    "# data[\"OXYGEN_SATURATION_DIFF\"].value_counts()"
   ]
  },
  {
   "cell_type": "markdown",
   "id": "urban-segment",
   "metadata": {},
   "source": [
    "illnese calculations"
   ]
  },
  {
   "cell_type": "code",
   "execution_count": null,
   "id": "several-witch",
   "metadata": {},
   "outputs": [],
   "source": [
    "diseases = []\n",
    "for x in data[\"tags\"]:\n",
    "    if isinstance(x, str):\n",
    "        diseases.extend(x.split(\", \"))\n",
    "diseases = list(set(diseases))\n",
    "print(diseases)"
   ]
  },
  {
   "cell_type": "code",
   "execution_count": null,
   "id": "hired-brief",
   "metadata": {
    "code_folding": []
   },
   "outputs": [],
   "source": [
    "# check which of them are more common in ICU patients. give numbers to them based on that\n",
    "def count_diseases(df):\n",
    "    disease_count = {}\n",
    "    for i, row in df.iterrows():\n",
    "        if isinstance(row[\"tags\"], str):\n",
    "            for disease in diseases:\n",
    "                if disease in row[\"tags\"]:\n",
    "                    disease_count[disease] = disease_count.get(disease, 0) + 1\n",
    "    disease_count[\"no illness\"] =  len(df.index) - sum(disease_count.values())\n",
    "    return disease_count\n",
    "    \n",
    "ICU_patients = data.query('ICU == 1 and WINDOW == \"ABOVE_12\"')\n",
    "disease_count = count_diseases(ICU_patients)\n",
    "fig, ax = plt.subplots(1, 2)\n",
    "ax[0].pie(disease_count.values(), explode=[0] * (len(disease_count) - 1) + [0.1] , labels=disease_count.keys(), autopct='%1.1f%%',\n",
    "        shadow=True, startangle=90)\n",
    "ax[0].set_title('ICU', fontsize=25, fontname=\"DejaVu Sans\")\n",
    "ax[0].axis('equal') \n",
    "\n",
    "Healthy_patients = data.query('ICU == 0 and WINDOW == \"ABOVE_12\"')\n",
    "disease_count = count_diseases(Healthy_patients)\n",
    "ax[1].pie(disease_count.values(), explode=[0] * (len(disease_count) - 1) + [0.1] , labels=disease_count.keys(), autopct='%1.1f%%',\n",
    "        shadow=True, startangle=90)\n",
    "ax[1].set_title('normal', fontsize=25, fontname=\"DejaVu Sans\")\n",
    "ax[1].axis('equal')\n",
    "fig.set_size_inches(14, 5)\n",
    "fig.subplots_adjust(wspace=1)\n",
    "plt.show()"
   ]
  },
  {
   "cell_type": "markdown",
   "id": "catholic-greeting",
   "metadata": {},
   "source": [
    "as we see most deadly diseases are 'motor neurone disease', 'asthma' and 'lung cancer' at first place.<br>\n",
    "smoke and heart disease at second place and Kidney disease at third place.<br>\n",
    "we give numbers to each of them as bellow <br>\n",
    "motor, asthma or lung caner --> 3<br>\n",
    "smoke or heart disease --> 2<br>\n",
    "kidney disease --> 1<br>\n",
    "no disease --> 0"
   ]
  },
  {
   "cell_type": "code",
   "execution_count": null,
   "id": "searching-church",
   "metadata": {},
   "outputs": [],
   "source": [
    "# [, , 'Kidney disease', , , ]\n",
    "data[\"tags\"] = data[\"tags\"].apply(lambda x: 0 if not isinstance(x, str) else (3 if any(disease in x.split(', ') for disease \n",
    "                                  in ['Motor Neurone Disease', 'Lung cancer', 'asthma']) else (2 if any(disease in x.split(', ') for disease \n",
    "                                  in ['Smoker', 'heart disease']) else  1)))\n",
    "data[\"tags\"]"
   ]
  },
  {
   "cell_type": "code",
   "execution_count": null,
   "id": "intense-iceland",
   "metadata": {},
   "outputs": [],
   "source": [
    "# a pie plot for peaople who got to ICU and smoke\n",
    "# remove with most na's"
   ]
  }
 ],
 "metadata": {
  "kernelspec": {
   "display_name": "Python 3",
   "language": "python",
   "name": "python3"
  },
  "language_info": {
   "codemirror_mode": {
    "name": "ipython",
    "version": 3
   },
   "file_extension": ".py",
   "mimetype": "text/x-python",
   "name": "python",
   "nbconvert_exporter": "python",
   "pygments_lexer": "ipython3",
   "version": "3.9.2"
  }
 },
 "nbformat": 4,
 "nbformat_minor": 5
}
